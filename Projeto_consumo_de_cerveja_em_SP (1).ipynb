{
  "nbformat": 4,
  "nbformat_minor": 0,
  "metadata": {
    "colab": {
      "name": "Projeto_consumo de cerveja em SP.ipynb",
      "provenance": [],
      "collapsed_sections": [],
      "toc_visible": true
    },
    "kernelspec": {
      "name": "python3",
      "display_name": "Python 3"
    },
    "widgets": {
      "application/vnd.jupyter.widget-state+json": {
        "c16914651bab44d0b89e1f4f42662790": {
          "model_module": "@jupyter-widgets/controls",
          "model_name": "VBoxModel",
          "state": {
            "_view_name": "VBoxView",
            "_dom_classes": [],
            "_model_name": "VBoxModel",
            "_view_module": "@jupyter-widgets/controls",
            "_model_module_version": "1.5.0",
            "_view_count": null,
            "_view_module_version": "1.5.0",
            "box_style": "",
            "layout": "IPY_MODEL_5f55718c51be49d28d9b2b502ef31cdf",
            "_model_module": "@jupyter-widgets/controls",
            "children": [
              "IPY_MODEL_0c21143692ee41c0a79117ccc655ab21",
              "IPY_MODEL_ceb1bf309447432685d680203a566da4",
              "IPY_MODEL_820734a9d5be4391bdf6d102e9d5e3db"
            ]
          }
        },
        "5f55718c51be49d28d9b2b502ef31cdf": {
          "model_module": "@jupyter-widgets/base",
          "model_name": "LayoutModel",
          "state": {
            "_view_name": "LayoutView",
            "grid_template_rows": null,
            "right": null,
            "justify_content": null,
            "_view_module": "@jupyter-widgets/base",
            "overflow": null,
            "_model_module_version": "1.2.0",
            "_view_count": null,
            "flex_flow": null,
            "width": null,
            "min_width": null,
            "border": null,
            "align_items": null,
            "bottom": null,
            "_model_module": "@jupyter-widgets/base",
            "top": null,
            "grid_column": null,
            "overflow_y": null,
            "overflow_x": null,
            "grid_auto_flow": null,
            "grid_area": null,
            "grid_template_columns": null,
            "flex": null,
            "_model_name": "LayoutModel",
            "justify_items": null,
            "grid_row": null,
            "max_height": null,
            "align_content": null,
            "visibility": null,
            "align_self": null,
            "height": null,
            "min_height": null,
            "padding": null,
            "grid_auto_rows": null,
            "grid_gap": null,
            "max_width": null,
            "order": null,
            "_view_module_version": "1.2.0",
            "grid_template_areas": null,
            "object_position": null,
            "object_fit": null,
            "grid_auto_columns": null,
            "margin": null,
            "display": null,
            "left": null
          }
        },
        "0c21143692ee41c0a79117ccc655ab21": {
          "model_module": "@jupyter-widgets/controls",
          "model_name": "TextModel",
          "state": {
            "_view_name": "TextView",
            "style": "IPY_MODEL_2edc61a8e46a47bc81375596a301e812",
            "_dom_classes": [],
            "description": "Temperatura Máxima",
            "_model_name": "TextModel",
            "placeholder": "​",
            "_view_module": "@jupyter-widgets/controls",
            "_model_module_version": "1.5.0",
            "value": "",
            "_view_count": null,
            "disabled": false,
            "_view_module_version": "1.5.0",
            "continuous_update": true,
            "description_tooltip": null,
            "_model_module": "@jupyter-widgets/controls",
            "layout": "IPY_MODEL_6a6d899c8c22492ab07ae3f1fc4df82d"
          }
        },
        "ceb1bf309447432685d680203a566da4": {
          "model_module": "@jupyter-widgets/controls",
          "model_name": "TextModel",
          "state": {
            "_view_name": "TextView",
            "style": "IPY_MODEL_e402822fc6b54ba1be89ddb99340a0c1",
            "_dom_classes": [],
            "description": "Chuva",
            "_model_name": "TextModel",
            "placeholder": "​",
            "_view_module": "@jupyter-widgets/controls",
            "_model_module_version": "1.5.0",
            "value": "",
            "_view_count": null,
            "disabled": false,
            "_view_module_version": "1.5.0",
            "continuous_update": true,
            "description_tooltip": null,
            "_model_module": "@jupyter-widgets/controls",
            "layout": "IPY_MODEL_3d88a5eeb8364323b4d83e1ef64c383a"
          }
        },
        "820734a9d5be4391bdf6d102e9d5e3db": {
          "model_module": "@jupyter-widgets/controls",
          "model_name": "RadioButtonsModel",
          "state": {
            "_options_labels": [
              "Não",
              "Sim"
            ],
            "_view_name": "RadioButtonsView",
            "style": "IPY_MODEL_c0c45cac58924f139317a40198a6af3b",
            "_dom_classes": [],
            "description": "Fim de Semana",
            "_model_name": "RadioButtonsModel",
            "index": 0,
            "_view_module": "@jupyter-widgets/controls",
            "_model_module_version": "1.5.0",
            "_view_count": null,
            "disabled": false,
            "_view_module_version": "1.5.0",
            "description_tooltip": null,
            "_model_module": "@jupyter-widgets/controls",
            "layout": "IPY_MODEL_bb095539bdf8493690af0a737720d53d"
          }
        },
        "2edc61a8e46a47bc81375596a301e812": {
          "model_module": "@jupyter-widgets/controls",
          "model_name": "DescriptionStyleModel",
          "state": {
            "_view_name": "StyleView",
            "_model_name": "DescriptionStyleModel",
            "description_width": "150px",
            "_view_module": "@jupyter-widgets/base",
            "_model_module_version": "1.5.0",
            "_view_count": null,
            "_view_module_version": "1.2.0",
            "_model_module": "@jupyter-widgets/controls"
          }
        },
        "6a6d899c8c22492ab07ae3f1fc4df82d": {
          "model_module": "@jupyter-widgets/base",
          "model_name": "LayoutModel",
          "state": {
            "_view_name": "LayoutView",
            "grid_template_rows": null,
            "right": null,
            "justify_content": null,
            "_view_module": "@jupyter-widgets/base",
            "overflow": null,
            "_model_module_version": "1.2.0",
            "_view_count": null,
            "flex_flow": null,
            "width": "400px",
            "min_width": null,
            "border": null,
            "align_items": null,
            "bottom": null,
            "_model_module": "@jupyter-widgets/base",
            "top": null,
            "grid_column": null,
            "overflow_y": null,
            "overflow_x": null,
            "grid_auto_flow": null,
            "grid_area": null,
            "grid_template_columns": null,
            "flex": null,
            "_model_name": "LayoutModel",
            "justify_items": null,
            "grid_row": null,
            "max_height": null,
            "align_content": null,
            "visibility": null,
            "align_self": null,
            "height": null,
            "min_height": null,
            "padding": null,
            "grid_auto_rows": null,
            "grid_gap": null,
            "max_width": null,
            "order": null,
            "_view_module_version": "1.2.0",
            "grid_template_areas": null,
            "object_position": null,
            "object_fit": null,
            "grid_auto_columns": null,
            "margin": null,
            "display": null,
            "left": null
          }
        },
        "e402822fc6b54ba1be89ddb99340a0c1": {
          "model_module": "@jupyter-widgets/controls",
          "model_name": "DescriptionStyleModel",
          "state": {
            "_view_name": "StyleView",
            "_model_name": "DescriptionStyleModel",
            "description_width": "150px",
            "_view_module": "@jupyter-widgets/base",
            "_model_module_version": "1.5.0",
            "_view_count": null,
            "_view_module_version": "1.2.0",
            "_model_module": "@jupyter-widgets/controls"
          }
        },
        "3d88a5eeb8364323b4d83e1ef64c383a": {
          "model_module": "@jupyter-widgets/base",
          "model_name": "LayoutModel",
          "state": {
            "_view_name": "LayoutView",
            "grid_template_rows": null,
            "right": null,
            "justify_content": null,
            "_view_module": "@jupyter-widgets/base",
            "overflow": null,
            "_model_module_version": "1.2.0",
            "_view_count": null,
            "flex_flow": null,
            "width": "400px",
            "min_width": null,
            "border": null,
            "align_items": null,
            "bottom": null,
            "_model_module": "@jupyter-widgets/base",
            "top": null,
            "grid_column": null,
            "overflow_y": null,
            "overflow_x": null,
            "grid_auto_flow": null,
            "grid_area": null,
            "grid_template_columns": null,
            "flex": null,
            "_model_name": "LayoutModel",
            "justify_items": null,
            "grid_row": null,
            "max_height": null,
            "align_content": null,
            "visibility": null,
            "align_self": null,
            "height": null,
            "min_height": null,
            "padding": null,
            "grid_auto_rows": null,
            "grid_gap": null,
            "max_width": null,
            "order": null,
            "_view_module_version": "1.2.0",
            "grid_template_areas": null,
            "object_position": null,
            "object_fit": null,
            "grid_auto_columns": null,
            "margin": null,
            "display": null,
            "left": null
          }
        },
        "c0c45cac58924f139317a40198a6af3b": {
          "model_module": "@jupyter-widgets/controls",
          "model_name": "DescriptionStyleModel",
          "state": {
            "_view_name": "StyleView",
            "_model_name": "DescriptionStyleModel",
            "description_width": "150px",
            "_view_module": "@jupyter-widgets/base",
            "_model_module_version": "1.5.0",
            "_view_count": null,
            "_view_module_version": "1.2.0",
            "_model_module": "@jupyter-widgets/controls"
          }
        },
        "bb095539bdf8493690af0a737720d53d": {
          "model_module": "@jupyter-widgets/base",
          "model_name": "LayoutModel",
          "state": {
            "_view_name": "LayoutView",
            "grid_template_rows": null,
            "right": null,
            "justify_content": null,
            "_view_module": "@jupyter-widgets/base",
            "overflow": null,
            "_model_module_version": "1.2.0",
            "_view_count": null,
            "flex_flow": null,
            "width": "400px",
            "min_width": null,
            "border": null,
            "align_items": null,
            "bottom": null,
            "_model_module": "@jupyter-widgets/base",
            "top": null,
            "grid_column": null,
            "overflow_y": null,
            "overflow_x": null,
            "grid_auto_flow": null,
            "grid_area": null,
            "grid_template_columns": null,
            "flex": null,
            "_model_name": "LayoutModel",
            "justify_items": null,
            "grid_row": null,
            "max_height": null,
            "align_content": null,
            "visibility": null,
            "align_self": null,
            "height": null,
            "min_height": null,
            "padding": null,
            "grid_auto_rows": null,
            "grid_gap": null,
            "max_width": null,
            "order": null,
            "_view_module_version": "1.2.0",
            "grid_template_areas": null,
            "object_position": null,
            "object_fit": null,
            "grid_auto_columns": null,
            "margin": null,
            "display": null,
            "left": null
          }
        },
        "7c4984d978544d8aa2675098bd4adf81": {
          "model_module": "@jupyter-widgets/controls",
          "model_name": "ButtonModel",
          "state": {
            "_view_name": "ButtonView",
            "style": "IPY_MODEL_3e2721f1fc254d209c59ca003e93510f",
            "_dom_classes": [],
            "description": "Simular",
            "_model_name": "ButtonModel",
            "button_style": "",
            "_view_module": "@jupyter-widgets/controls",
            "_model_module_version": "1.5.0",
            "tooltip": "",
            "_view_count": null,
            "disabled": false,
            "_view_module_version": "1.5.0",
            "layout": "IPY_MODEL_ff6a0fd505f94eeebebba274ae29c090",
            "_model_module": "@jupyter-widgets/controls",
            "icon": ""
          }
        },
        "3e2721f1fc254d209c59ca003e93510f": {
          "model_module": "@jupyter-widgets/controls",
          "model_name": "ButtonStyleModel",
          "state": {
            "_view_name": "StyleView",
            "_model_name": "ButtonStyleModel",
            "_view_module": "@jupyter-widgets/base",
            "_model_module_version": "1.5.0",
            "_view_count": null,
            "button_color": null,
            "font_weight": "",
            "_view_module_version": "1.2.0",
            "_model_module": "@jupyter-widgets/controls"
          }
        },
        "ff6a0fd505f94eeebebba274ae29c090": {
          "model_module": "@jupyter-widgets/base",
          "model_name": "LayoutModel",
          "state": {
            "_view_name": "LayoutView",
            "grid_template_rows": null,
            "right": null,
            "justify_content": null,
            "_view_module": "@jupyter-widgets/base",
            "overflow": null,
            "_model_module_version": "1.2.0",
            "_view_count": null,
            "flex_flow": null,
            "width": null,
            "min_width": null,
            "border": null,
            "align_items": null,
            "bottom": null,
            "_model_module": "@jupyter-widgets/base",
            "top": null,
            "grid_column": null,
            "overflow_y": null,
            "overflow_x": null,
            "grid_auto_flow": null,
            "grid_area": null,
            "grid_template_columns": null,
            "flex": null,
            "_model_name": "LayoutModel",
            "justify_items": null,
            "grid_row": null,
            "max_height": null,
            "align_content": null,
            "visibility": null,
            "align_self": null,
            "height": null,
            "min_height": null,
            "padding": null,
            "grid_auto_rows": null,
            "grid_gap": null,
            "max_width": null,
            "order": null,
            "_view_module_version": "1.2.0",
            "grid_template_areas": null,
            "object_position": null,
            "object_fit": null,
            "grid_auto_columns": null,
            "margin": null,
            "display": null,
            "left": null
          }
        }
      }
    }
  },
  "cells": [
    {
      "cell_type": "markdown",
      "metadata": {
        "id": "JA4B8hxVbqR9",
        "colab_type": "text"
      },
      "source": [
        "# Esse notebook é para prever o consumo de cerveja em São Paulo "
      ]
    },
    {
      "cell_type": "markdown",
      "metadata": {
        "id": "5Mp4OxwwfRQE",
        "colab_type": "text"
      },
      "source": [
        "Fonte: https://www.kaggle.com/dongeorge/beer-consumption-sao-paulo\n",
        "\n",
        "Descrição:\n",
        "\n",
        "Os dados (amostra) foram coletados em São Paulo - Brasil, em uma área universitária, onde existem algumas festas com grupos de alunos de 18 a 28 anos de idade (média).\n"
      ]
    },
    {
      "cell_type": "code",
      "metadata": {
        "id": "WZ-03Jpdbh5l",
        "colab_type": "code",
        "colab": {
          "base_uri": "https://localhost:8080/",
          "height": 71
        },
        "outputId": "f98a52ab-fb4c-4368-eb0f-9398be2e3864"
      },
      "source": [
        "#importando bibliotecas\n",
        "\n",
        "import matplotlib.pyplot as plt\n",
        "%matplotlib inline\n",
        "\n",
        "import pandas as pd\n",
        "import numpy as np\n",
        "import seaborn as sns\n",
        "from sklearn.model_selection import train_test_split\n",
        "import warnings\n",
        "\n",
        "warnings.filterwarnings('ignore') "
      ],
      "execution_count": null,
      "outputs": [
        {
          "output_type": "stream",
          "text": [
            "/usr/local/lib/python3.6/dist-packages/statsmodels/tools/_testing.py:19: FutureWarning: pandas.util.testing is deprecated. Use the functions in the public API at pandas.testing instead.\n",
            "  import pandas.util.testing as tm\n"
          ],
          "name": "stderr"
        }
      ]
    },
    {
      "cell_type": "code",
      "metadata": {
        "id": "Kl1PDMZmbndV",
        "colab_type": "code",
        "colab": {}
      },
      "source": [
        "dados = pd.read_csv('Consumo_cerveja.csv')"
      ],
      "execution_count": null,
      "outputs": []
    },
    {
      "cell_type": "code",
      "metadata": {
        "id": "AS6_UmyjgsGF",
        "colab_type": "code",
        "colab": {
          "base_uri": "https://localhost:8080/",
          "height": 306
        },
        "outputId": "65cfdee3-acea-4407-86a8-721bd6de4e87"
      },
      "source": [
        "dados.head()"
      ],
      "execution_count": null,
      "outputs": [
        {
          "output_type": "execute_result",
          "data": {
            "text/html": [
              "<div>\n",
              "<style scoped>\n",
              "    .dataframe tbody tr th:only-of-type {\n",
              "        vertical-align: middle;\n",
              "    }\n",
              "\n",
              "    .dataframe tbody tr th {\n",
              "        vertical-align: top;\n",
              "    }\n",
              "\n",
              "    .dataframe thead th {\n",
              "        text-align: right;\n",
              "    }\n",
              "</style>\n",
              "<table border=\"1\" class=\"dataframe\">\n",
              "  <thead>\n",
              "    <tr style=\"text-align: right;\">\n",
              "      <th></th>\n",
              "      <th>Data</th>\n",
              "      <th>Temperatura Media (C)</th>\n",
              "      <th>Temperatura Minima (C)</th>\n",
              "      <th>Temperatura Maxima (C)</th>\n",
              "      <th>Precipitacao (mm)</th>\n",
              "      <th>Final de Semana</th>\n",
              "      <th>Consumo de cerveja (litros)</th>\n",
              "    </tr>\n",
              "  </thead>\n",
              "  <tbody>\n",
              "    <tr>\n",
              "      <th>0</th>\n",
              "      <td>2015-01-01</td>\n",
              "      <td>27,3</td>\n",
              "      <td>23,9</td>\n",
              "      <td>32,5</td>\n",
              "      <td>0</td>\n",
              "      <td>0.0</td>\n",
              "      <td>25.461</td>\n",
              "    </tr>\n",
              "    <tr>\n",
              "      <th>1</th>\n",
              "      <td>2015-01-02</td>\n",
              "      <td>27,02</td>\n",
              "      <td>24,5</td>\n",
              "      <td>33,5</td>\n",
              "      <td>0</td>\n",
              "      <td>0.0</td>\n",
              "      <td>28.972</td>\n",
              "    </tr>\n",
              "    <tr>\n",
              "      <th>2</th>\n",
              "      <td>2015-01-03</td>\n",
              "      <td>24,82</td>\n",
              "      <td>22,4</td>\n",
              "      <td>29,9</td>\n",
              "      <td>0</td>\n",
              "      <td>1.0</td>\n",
              "      <td>30.814</td>\n",
              "    </tr>\n",
              "    <tr>\n",
              "      <th>3</th>\n",
              "      <td>2015-01-04</td>\n",
              "      <td>23,98</td>\n",
              "      <td>21,5</td>\n",
              "      <td>28,6</td>\n",
              "      <td>1,2</td>\n",
              "      <td>1.0</td>\n",
              "      <td>29.799</td>\n",
              "    </tr>\n",
              "    <tr>\n",
              "      <th>4</th>\n",
              "      <td>2015-01-05</td>\n",
              "      <td>23,82</td>\n",
              "      <td>21</td>\n",
              "      <td>28,3</td>\n",
              "      <td>0</td>\n",
              "      <td>0.0</td>\n",
              "      <td>28.900</td>\n",
              "    </tr>\n",
              "  </tbody>\n",
              "</table>\n",
              "</div>"
            ],
            "text/plain": [
              "         Data  ... Consumo de cerveja (litros)\n",
              "0  2015-01-01  ...                      25.461\n",
              "1  2015-01-02  ...                      28.972\n",
              "2  2015-01-03  ...                      30.814\n",
              "3  2015-01-04  ...                      29.799\n",
              "4  2015-01-05  ...                      28.900\n",
              "\n",
              "[5 rows x 7 columns]"
            ]
          },
          "metadata": {
            "tags": []
          },
          "execution_count": 3
        }
      ]
    },
    {
      "cell_type": "code",
      "metadata": {
        "id": "YhYThiWHojky",
        "colab_type": "code",
        "colab": {
          "base_uri": "https://localhost:8080/",
          "height": 85
        },
        "outputId": "20dcba36-c8d2-4367-d3aa-06d5e0794ef3"
      },
      "source": [
        "dados.columns"
      ],
      "execution_count": null,
      "outputs": [
        {
          "output_type": "execute_result",
          "data": {
            "text/plain": [
              "Index(['Data', 'Temperatura Media (C)', 'Temperatura Minima (C)',\n",
              "       'Temperatura Maxima (C)', 'Precipitacao (mm)', 'Final de Semana',\n",
              "       'Consumo de cerveja (litros)'],\n",
              "      dtype='object')"
            ]
          },
          "metadata": {
            "tags": []
          },
          "execution_count": 4
        }
      ]
    },
    {
      "cell_type": "code",
      "metadata": {
        "id": "oMchh720oYBJ",
        "colab_type": "code",
        "colab": {}
      },
      "source": [
        "#renomeando colunas \n",
        "renomear = {'Temperatura Media (C)': 'temp_media', 'Temperatura Minima (C)': 'temp_min',\n",
        "       'Temperatura Maxima (C)': 'temp_max', 'Precipitacao (mm)': 'chuva', 'Final de Semana': 'fds',\n",
        "        'Consumo de cerveja (litros)': 'consumo_de_cerveja'}"
      ],
      "execution_count": null,
      "outputs": []
    },
    {
      "cell_type": "code",
      "metadata": {
        "id": "o53DmkS9pD2g",
        "colab_type": "code",
        "colab": {}
      },
      "source": [
        "dados.rename(columns=renomear, inplace=True)"
      ],
      "execution_count": null,
      "outputs": []
    },
    {
      "cell_type": "code",
      "metadata": {
        "id": "xbtanPO6g-4-",
        "colab_type": "code",
        "colab": {
          "base_uri": "https://localhost:8080/",
          "height": 255
        },
        "outputId": "98b5ed8e-bdae-42f5-eb01-39013648bfdf"
      },
      "source": [
        "dados.info()"
      ],
      "execution_count": null,
      "outputs": [
        {
          "output_type": "stream",
          "text": [
            "<class 'pandas.core.frame.DataFrame'>\n",
            "RangeIndex: 941 entries, 0 to 940\n",
            "Data columns (total 7 columns):\n",
            " #   Column              Non-Null Count  Dtype  \n",
            "---  ------              --------------  -----  \n",
            " 0   Data                365 non-null    object \n",
            " 1   temp_media          365 non-null    object \n",
            " 2   temp_min            365 non-null    object \n",
            " 3   temp_max            365 non-null    object \n",
            " 4   chuva               365 non-null    object \n",
            " 5   fds                 365 non-null    float64\n",
            " 6   consumo_de_cerveja  365 non-null    float64\n",
            "dtypes: float64(2), object(5)\n",
            "memory usage: 51.6+ KB\n"
          ],
          "name": "stdout"
        }
      ]
    },
    {
      "cell_type": "code",
      "metadata": {
        "id": "0xiMiOBYhHQm",
        "colab_type": "code",
        "colab": {}
      },
      "source": [
        "# Eliminando as linhas com valores nulos \n",
        "dados.dropna(how = 'all', inplace = True)"
      ],
      "execution_count": null,
      "outputs": []
    },
    {
      "cell_type": "code",
      "metadata": {
        "id": "1K8qdZahhWC3",
        "colab_type": "code",
        "colab": {}
      },
      "source": [
        "# Substituindo a vírgula por ponto (formato inglês)\n",
        "dados.replace({',':'.'}, regex = True, inplace = True)"
      ],
      "execution_count": null,
      "outputs": []
    },
    {
      "cell_type": "code",
      "metadata": {
        "id": "fuI8B7fzisch",
        "colab_type": "code",
        "colab": {}
      },
      "source": [
        "#convertendo o tipo de Data\n",
        "dados['Data'] = pd.to_datetime(dados['Data'])"
      ],
      "execution_count": null,
      "outputs": []
    },
    {
      "cell_type": "code",
      "metadata": {
        "id": "tzynvqEdi8fn",
        "colab_type": "code",
        "colab": {}
      },
      "source": [
        "dias = ['Segunda', 'Terca', 'Quarta', 'Quinta', 'Sexta', 'Sabado', 'Domingo']\n",
        "\n",
        "dados['Dia_da_semana'] = dados['Data'].apply(lambda a: dias[a.weekday()])"
      ],
      "execution_count": null,
      "outputs": []
    },
    {
      "cell_type": "code",
      "metadata": {
        "id": "rf4uMs1nhidQ",
        "colab_type": "code",
        "colab": {
          "base_uri": "https://localhost:8080/",
          "height": 204
        },
        "outputId": "5121c088-26f7-4586-fb8e-0fadea7e43dc"
      },
      "source": [
        "dados.head()"
      ],
      "execution_count": null,
      "outputs": [
        {
          "output_type": "execute_result",
          "data": {
            "text/html": [
              "<div>\n",
              "<style scoped>\n",
              "    .dataframe tbody tr th:only-of-type {\n",
              "        vertical-align: middle;\n",
              "    }\n",
              "\n",
              "    .dataframe tbody tr th {\n",
              "        vertical-align: top;\n",
              "    }\n",
              "\n",
              "    .dataframe thead th {\n",
              "        text-align: right;\n",
              "    }\n",
              "</style>\n",
              "<table border=\"1\" class=\"dataframe\">\n",
              "  <thead>\n",
              "    <tr style=\"text-align: right;\">\n",
              "      <th></th>\n",
              "      <th>Data</th>\n",
              "      <th>temp_media</th>\n",
              "      <th>temp_min</th>\n",
              "      <th>temp_max</th>\n",
              "      <th>chuva</th>\n",
              "      <th>fds</th>\n",
              "      <th>consumo_de_cerveja</th>\n",
              "      <th>Dia_da_semana</th>\n",
              "    </tr>\n",
              "  </thead>\n",
              "  <tbody>\n",
              "    <tr>\n",
              "      <th>0</th>\n",
              "      <td>2015-01-01</td>\n",
              "      <td>27.3</td>\n",
              "      <td>23.9</td>\n",
              "      <td>32.5</td>\n",
              "      <td>0</td>\n",
              "      <td>0.0</td>\n",
              "      <td>25.461</td>\n",
              "      <td>Quinta</td>\n",
              "    </tr>\n",
              "    <tr>\n",
              "      <th>1</th>\n",
              "      <td>2015-01-02</td>\n",
              "      <td>27.02</td>\n",
              "      <td>24.5</td>\n",
              "      <td>33.5</td>\n",
              "      <td>0</td>\n",
              "      <td>0.0</td>\n",
              "      <td>28.972</td>\n",
              "      <td>Sexta</td>\n",
              "    </tr>\n",
              "    <tr>\n",
              "      <th>2</th>\n",
              "      <td>2015-01-03</td>\n",
              "      <td>24.82</td>\n",
              "      <td>22.4</td>\n",
              "      <td>29.9</td>\n",
              "      <td>0</td>\n",
              "      <td>1.0</td>\n",
              "      <td>30.814</td>\n",
              "      <td>Sabado</td>\n",
              "    </tr>\n",
              "    <tr>\n",
              "      <th>3</th>\n",
              "      <td>2015-01-04</td>\n",
              "      <td>23.98</td>\n",
              "      <td>21.5</td>\n",
              "      <td>28.6</td>\n",
              "      <td>1.2</td>\n",
              "      <td>1.0</td>\n",
              "      <td>29.799</td>\n",
              "      <td>Domingo</td>\n",
              "    </tr>\n",
              "    <tr>\n",
              "      <th>4</th>\n",
              "      <td>2015-01-05</td>\n",
              "      <td>23.82</td>\n",
              "      <td>21</td>\n",
              "      <td>28.3</td>\n",
              "      <td>0</td>\n",
              "      <td>0.0</td>\n",
              "      <td>28.900</td>\n",
              "      <td>Segunda</td>\n",
              "    </tr>\n",
              "  </tbody>\n",
              "</table>\n",
              "</div>"
            ],
            "text/plain": [
              "        Data temp_media temp_min  ...  fds consumo_de_cerveja  Dia_da_semana\n",
              "0 2015-01-01       27.3     23.9  ...  0.0             25.461         Quinta\n",
              "1 2015-01-02      27.02     24.5  ...  0.0             28.972          Sexta\n",
              "2 2015-01-03      24.82     22.4  ...  1.0             30.814         Sabado\n",
              "3 2015-01-04      23.98     21.5  ...  1.0             29.799        Domingo\n",
              "4 2015-01-05      23.82       21  ...  0.0             28.900        Segunda\n",
              "\n",
              "[5 rows x 8 columns]"
            ]
          },
          "metadata": {
            "tags": []
          },
          "execution_count": 12
        }
      ]
    },
    {
      "cell_type": "code",
      "metadata": {
        "id": "IWvMiNoCh_RS",
        "colab_type": "code",
        "colab": {
          "base_uri": "https://localhost:8080/",
          "height": 34
        },
        "outputId": "07693fa1-9d21-420e-8ab1-6713bcd6b6bf"
      },
      "source": [
        "dados.shape"
      ],
      "execution_count": null,
      "outputs": [
        {
          "output_type": "execute_result",
          "data": {
            "text/plain": [
              "(365, 8)"
            ]
          },
          "metadata": {
            "tags": []
          },
          "execution_count": 13
        }
      ]
    },
    {
      "cell_type": "markdown",
      "metadata": {
        "id": "033wMLObhnLu",
        "colab_type": "text"
      },
      "source": [
        "# Análises descritiva"
      ]
    },
    {
      "cell_type": "code",
      "metadata": {
        "id": "rZEmWHe1jVX0",
        "colab_type": "code",
        "colab": {
          "base_uri": "https://localhost:8080/",
          "height": 335
        },
        "outputId": "22455993-7527-4c35-d114-f0b9fdceab84"
      },
      "source": [
        "plt.figure(figsize=(10,5))\n",
        "\n",
        "ax = sns.barplot(x=\"Dia_da_semana\", y=\"consumo_de_cerveja\", data=dados)"
      ],
      "execution_count": null,
      "outputs": [
        {
          "output_type": "display_data",
          "data": {
            "image/png": "[encoded data removed]",
            "text/plain": [
              "<Figure size 720x360 with 1 Axes>"
            ]
          },
          "metadata": {
            "tags": [],
            "needs_background": "light"
          }
        }
      ]
    },
    {
      "cell_type": "markdown",
      "metadata": {
        "id": "kCQrTB9vkQrJ",
        "colab_type": "text"
      },
      "source": [
        "Perceba que os dias da semana não importam muito para análise, apenas nos fds (sábado e domingo) que há uma diferença no consumo para o resto da semana."
      ]
    },
    {
      "cell_type": "code",
      "metadata": {
        "id": "HcLw-c-UkniW",
        "colab_type": "code",
        "colab": {}
      },
      "source": [
        "#eliminando as colunas \"Data\" e \"Dia_da_semana\"\n",
        "dados.drop(['Data','Dia_da_semana'], axis = 1, inplace = True)"
      ],
      "execution_count": null,
      "outputs": []
    },
    {
      "cell_type": "code",
      "metadata": {
        "id": "RyZmUZhVk70w",
        "colab_type": "code",
        "colab": {}
      },
      "source": [
        "#mudando os tipos da colunas \n",
        "\n",
        "dados  = dados.apply(pd.to_numeric)"
      ],
      "execution_count": null,
      "outputs": []
    },
    {
      "cell_type": "code",
      "metadata": {
        "id": "PqdbeRc8lQDJ",
        "colab_type": "code",
        "colab": {
          "base_uri": "https://localhost:8080/",
          "height": 238
        },
        "outputId": "12adb3e9-7c67-4fc9-a0ae-70dae9d5a95a"
      },
      "source": [
        "dados.info()"
      ],
      "execution_count": null,
      "outputs": [
        {
          "output_type": "stream",
          "text": [
            "<class 'pandas.core.frame.DataFrame'>\n",
            "Int64Index: 365 entries, 0 to 364\n",
            "Data columns (total 6 columns):\n",
            " #   Column              Non-Null Count  Dtype  \n",
            "---  ------              --------------  -----  \n",
            " 0   temp_media          365 non-null    float64\n",
            " 1   temp_min            365 non-null    float64\n",
            " 2   temp_max            365 non-null    float64\n",
            " 3   chuva               365 non-null    float64\n",
            " 4   fds                 365 non-null    float64\n",
            " 5   consumo_de_cerveja  365 non-null    float64\n",
            "dtypes: float64(6)\n",
            "memory usage: 30.0 KB\n"
          ],
          "name": "stdout"
        }
      ]
    },
    {
      "cell_type": "code",
      "metadata": {
        "id": "STIZ1iYbhqy_",
        "colab_type": "code",
        "colab": {
          "base_uri": "https://localhost:8080/",
          "height": 297
        },
        "outputId": "1caa095a-9a6d-466d-abaf-aaa6ca527402"
      },
      "source": [
        "dados.describe().round(2)  "
      ],
      "execution_count": null,
      "outputs": [
        {
          "output_type": "execute_result",
          "data": {
            "text/html": [
              "<div>\n",
              "<style scoped>\n",
              "    .dataframe tbody tr th:only-of-type {\n",
              "        vertical-align: middle;\n",
              "    }\n",
              "\n",
              "    .dataframe tbody tr th {\n",
              "        vertical-align: top;\n",
              "    }\n",
              "\n",
              "    .dataframe thead th {\n",
              "        text-align: right;\n",
              "    }\n",
              "</style>\n",
              "<table border=\"1\" class=\"dataframe\">\n",
              "  <thead>\n",
              "    <tr style=\"text-align: right;\">\n",
              "      <th></th>\n",
              "      <th>temp_media</th>\n",
              "      <th>temp_min</th>\n",
              "      <th>temp_max</th>\n",
              "      <th>chuva</th>\n",
              "      <th>fds</th>\n",
              "      <th>consumo_de_cerveja</th>\n",
              "    </tr>\n",
              "  </thead>\n",
              "  <tbody>\n",
              "    <tr>\n",
              "      <th>count</th>\n",
              "      <td>365.00</td>\n",
              "      <td>365.00</td>\n",
              "      <td>365.00</td>\n",
              "      <td>365.00</td>\n",
              "      <td>365.00</td>\n",
              "      <td>365.00</td>\n",
              "    </tr>\n",
              "    <tr>\n",
              "      <th>mean</th>\n",
              "      <td>21.23</td>\n",
              "      <td>17.46</td>\n",
              "      <td>26.61</td>\n",
              "      <td>5.20</td>\n",
              "      <td>0.28</td>\n",
              "      <td>25.40</td>\n",
              "    </tr>\n",
              "    <tr>\n",
              "      <th>std</th>\n",
              "      <td>3.18</td>\n",
              "      <td>2.83</td>\n",
              "      <td>4.32</td>\n",
              "      <td>12.42</td>\n",
              "      <td>0.45</td>\n",
              "      <td>4.40</td>\n",
              "    </tr>\n",
              "    <tr>\n",
              "      <th>min</th>\n",
              "      <td>12.90</td>\n",
              "      <td>10.60</td>\n",
              "      <td>14.50</td>\n",
              "      <td>0.00</td>\n",
              "      <td>0.00</td>\n",
              "      <td>14.34</td>\n",
              "    </tr>\n",
              "    <tr>\n",
              "      <th>25%</th>\n",
              "      <td>19.02</td>\n",
              "      <td>15.30</td>\n",
              "      <td>23.80</td>\n",
              "      <td>0.00</td>\n",
              "      <td>0.00</td>\n",
              "      <td>22.01</td>\n",
              "    </tr>\n",
              "    <tr>\n",
              "      <th>50%</th>\n",
              "      <td>21.38</td>\n",
              "      <td>17.90</td>\n",
              "      <td>26.90</td>\n",
              "      <td>0.00</td>\n",
              "      <td>0.00</td>\n",
              "      <td>24.87</td>\n",
              "    </tr>\n",
              "    <tr>\n",
              "      <th>75%</th>\n",
              "      <td>23.28</td>\n",
              "      <td>19.60</td>\n",
              "      <td>29.40</td>\n",
              "      <td>3.20</td>\n",
              "      <td>1.00</td>\n",
              "      <td>28.63</td>\n",
              "    </tr>\n",
              "    <tr>\n",
              "      <th>max</th>\n",
              "      <td>28.86</td>\n",
              "      <td>24.50</td>\n",
              "      <td>36.50</td>\n",
              "      <td>94.80</td>\n",
              "      <td>1.00</td>\n",
              "      <td>37.94</td>\n",
              "    </tr>\n",
              "  </tbody>\n",
              "</table>\n",
              "</div>"
            ],
            "text/plain": [
              "       temp_media  temp_min  temp_max   chuva     fds  consumo_de_cerveja\n",
              "count      365.00    365.00    365.00  365.00  365.00              365.00\n",
              "mean        21.23     17.46     26.61    5.20    0.28               25.40\n",
              "std          3.18      2.83      4.32   12.42    0.45                4.40\n",
              "min         12.90     10.60     14.50    0.00    0.00               14.34\n",
              "25%         19.02     15.30     23.80    0.00    0.00               22.01\n",
              "50%         21.38     17.90     26.90    0.00    0.00               24.87\n",
              "75%         23.28     19.60     29.40    3.20    1.00               28.63\n",
              "max         28.86     24.50     36.50   94.80    1.00               37.94"
            ]
          },
          "metadata": {
            "tags": []
          },
          "execution_count": 18
        }
      ]
    },
    {
      "cell_type": "code",
      "metadata": {
        "id": "sPqV9u1sh2pv",
        "colab_type": "code",
        "colab": {
          "base_uri": "https://localhost:8080/",
          "height": 235
        },
        "outputId": "827963b7-62eb-45c5-b98b-33bf04a7f2a0"
      },
      "source": [
        "dados.corr().round(4)"
      ],
      "execution_count": null,
      "outputs": [
        {
          "output_type": "execute_result",
          "data": {
            "text/html": [
              "<div>\n",
              "<style scoped>\n",
              "    .dataframe tbody tr th:only-of-type {\n",
              "        vertical-align: middle;\n",
              "    }\n",
              "\n",
              "    .dataframe tbody tr th {\n",
              "        vertical-align: top;\n",
              "    }\n",
              "\n",
              "    .dataframe thead th {\n",
              "        text-align: right;\n",
              "    }\n",
              "</style>\n",
              "<table border=\"1\" class=\"dataframe\">\n",
              "  <thead>\n",
              "    <tr style=\"text-align: right;\">\n",
              "      <th></th>\n",
              "      <th>temp_media</th>\n",
              "      <th>temp_min</th>\n",
              "      <th>temp_max</th>\n",
              "      <th>chuva</th>\n",
              "      <th>fds</th>\n",
              "      <th>consumo_de_cerveja</th>\n",
              "    </tr>\n",
              "  </thead>\n",
              "  <tbody>\n",
              "    <tr>\n",
              "      <th>temp_media</th>\n",
              "      <td>1.0000</td>\n",
              "      <td>0.8628</td>\n",
              "      <td>0.9225</td>\n",
              "      <td>0.0244</td>\n",
              "      <td>-0.0508</td>\n",
              "      <td>0.5746</td>\n",
              "    </tr>\n",
              "    <tr>\n",
              "      <th>temp_min</th>\n",
              "      <td>0.8628</td>\n",
              "      <td>1.0000</td>\n",
              "      <td>0.6729</td>\n",
              "      <td>0.0986</td>\n",
              "      <td>-0.0595</td>\n",
              "      <td>0.3925</td>\n",
              "    </tr>\n",
              "    <tr>\n",
              "      <th>temp_max</th>\n",
              "      <td>0.9225</td>\n",
              "      <td>0.6729</td>\n",
              "      <td>1.0000</td>\n",
              "      <td>-0.0493</td>\n",
              "      <td>-0.0403</td>\n",
              "      <td>0.6427</td>\n",
              "    </tr>\n",
              "    <tr>\n",
              "      <th>chuva</th>\n",
              "      <td>0.0244</td>\n",
              "      <td>0.0986</td>\n",
              "      <td>-0.0493</td>\n",
              "      <td>1.0000</td>\n",
              "      <td>0.0016</td>\n",
              "      <td>-0.1938</td>\n",
              "    </tr>\n",
              "    <tr>\n",
              "      <th>fds</th>\n",
              "      <td>-0.0508</td>\n",
              "      <td>-0.0595</td>\n",
              "      <td>-0.0403</td>\n",
              "      <td>0.0016</td>\n",
              "      <td>1.0000</td>\n",
              "      <td>0.5060</td>\n",
              "    </tr>\n",
              "    <tr>\n",
              "      <th>consumo_de_cerveja</th>\n",
              "      <td>0.5746</td>\n",
              "      <td>0.3925</td>\n",
              "      <td>0.6427</td>\n",
              "      <td>-0.1938</td>\n",
              "      <td>0.5060</td>\n",
              "      <td>1.0000</td>\n",
              "    </tr>\n",
              "  </tbody>\n",
              "</table>\n",
              "</div>"
            ],
            "text/plain": [
              "                    temp_media  temp_min  ...     fds  consumo_de_cerveja\n",
              "temp_media              1.0000    0.8628  ... -0.0508              0.5746\n",
              "temp_min                0.8628    1.0000  ... -0.0595              0.3925\n",
              "temp_max                0.9225    0.6729  ... -0.0403              0.6427\n",
              "chuva                   0.0244    0.0986  ...  0.0016             -0.1938\n",
              "fds                    -0.0508   -0.0595  ...  1.0000              0.5060\n",
              "consumo_de_cerveja      0.5746    0.3925  ...  0.5060              1.0000\n",
              "\n",
              "[6 rows x 6 columns]"
            ]
          },
          "metadata": {
            "tags": []
          },
          "execution_count": 19
        }
      ]
    },
    {
      "cell_type": "markdown",
      "metadata": {
        "id": "iDY4sg5VmrJT",
        "colab_type": "text"
      },
      "source": [
        "Perceba que as variáveis de temperatura possuem uma relação linear boa com a variável dependente consumo.\n",
        "\n",
        "Podemos interpretar também que a variável chuva é inversamente proporcional a nossa variável dependente, desta forma, quando chove, a tendência é que o consumo de cerveja diminua, por isso o valor negativo. Já em no caso de fds, como anteriormente observado, verificamos que o consumo se eleva."
      ]
    },
    {
      "cell_type": "code",
      "metadata": {
        "id": "PcAEu1Bkmqvv",
        "colab_type": "code",
        "colab": {
          "base_uri": "https://localhost:8080/",
          "height": 339
        },
        "outputId": "1d7c9aa6-4511-4641-985e-750aca46fa61"
      },
      "source": [
        "fig, ax = plt.subplots(figsize=(20, 6))  \n",
        "\n",
        "ax.set_title('Consumo de Cerveja ao longo do ano de 2015', fontsize=20)\n",
        "ax.set_ylabel('Litros', fontsize=16)\n",
        "ax.set_xlabel('Dias', fontsize=16)\n",
        "ax = dados['consumo_de_cerveja'].plot(fontsize=14) "
      ],
      "execution_count": null,
      "outputs": [
        {
          "output_type": "display_data",
          "data": {
            "image/png": "[encoded data removed]",
            "text/plain": [
              "<Figure size 1440x432 with 1 Axes>"
            ]
          },
          "metadata": {
            "tags": [],
            "needs_background": "light"
          }
        }
      ]
    },
    {
      "cell_type": "code",
      "metadata": {
        "id": "JB30hb0bpvn2",
        "colab_type": "code",
        "colab": {
          "base_uri": "https://localhost:8080/",
          "height": 395
        },
        "outputId": "e6d43557-b709-4d4c-8c86-a049e6403140"
      },
      "source": [
        "ax = sns.boxplot(data=dados['consumo_de_cerveja'], orient='v', width=0.2) \n",
        "ax.figure.set_size_inches(12, 6) #tamanho do boxplot\n",
        "ax.set_title('Consumo de Cerveja', fontsize=20) \n",
        "ax.set_ylabel('Litros', fontsize=16)\n",
        "ax = ax "
      ],
      "execution_count": null,
      "outputs": [
        {
          "output_type": "display_data",
          "data": {
            "image/png": "[encoded data removed]",
            "text/plain": [
              "<Figure size 864x432 with 1 Axes>"
            ]
          },
          "metadata": {
            "tags": [],
            "needs_background": "light"
          }
        }
      ]
    },
    {
      "cell_type": "markdown",
      "metadata": {
        "id": "OQpPqs-5qBgX",
        "colab_type": "text"
      },
      "source": [
        "**Consumo X Fds**"
      ]
    },
    {
      "cell_type": "code",
      "metadata": {
        "id": "8LebOwBsqCrK",
        "colab_type": "code",
        "colab": {
          "base_uri": "https://localhost:8080/",
          "height": 414
        },
        "outputId": "163b9ba0-2e2e-45ea-8126-de728c434bdb"
      },
      "source": [
        "ax = sns.boxplot(y='consumo_de_cerveja', x='fds', data=dados, orient='v', width=0.5)\n",
        "ax.figure.set_size_inches(12, 6)\n",
        "ax.set_title('Consumo de Cerveja', fontsize=20)\n",
        "ax.set_ylabel('Litros', fontsize=16)\n",
        "ax.set_xlabel('Final de Semana', fontsize=16)\n",
        "ax = ax"
      ],
      "execution_count": null,
      "outputs": [
        {
          "output_type": "display_data",
          "data": {
            "image/png": "[encoded data removed]",
            "text/plain": [
              "<Figure size 864x432 with 1 Axes>"
            ]
          },
          "metadata": {
            "tags": [],
            "needs_background": "light"
          }
        }
      ]
    },
    {
      "cell_type": "markdown",
      "metadata": {
        "id": "jCIx8NXdqRWA",
        "colab_type": "text"
      },
      "source": [
        "Podemos perceber visivelmente que o consumo cai quando não estamos em um fim de semana (0). Essas discrepancias em dias que não são fds podem ser feriados."
      ]
    },
    {
      "cell_type": "code",
      "metadata": {
        "id": "5ZxCKFUYqtK6",
        "colab_type": "code",
        "colab": {
          "base_uri": "https://localhost:8080/",
          "height": 428
        },
        "outputId": "977f71b5-3d89-423b-fb6f-e86358593a01"
      },
      "source": [
        "ax = sns.distplot(dados['consumo_de_cerveja'])\n",
        "ax.figure.set_size_inches(12, 6)\n",
        "ax.set_title('Distribuição de Frequências', fontsize=20)\n",
        "ax.set_ylabel('Consumo de Cerveja (Litros)', fontsize=16)\n",
        "ax"
      ],
      "execution_count": null,
      "outputs": [
        {
          "output_type": "execute_result",
          "data": {
            "text/plain": [
              "<matplotlib.axes._subplots.AxesSubplot at 0x7fc8db8b4e48>"
            ]
          },
          "metadata": {
            "tags": []
          },
          "execution_count": 23
        },
        {
          "output_type": "display_data",
          "data": {
            "image/png": "[encoded data removed]",
            "text/plain": [
              "<Figure size 864x432 with 1 Axes>"
            ]
          },
          "metadata": {
            "tags": [],
            "needs_background": "light"
          }
        }
      ]
    },
    {
      "cell_type": "code",
      "metadata": {
        "id": "SJmmEWJnvJsQ",
        "colab_type": "code",
        "colab": {
          "base_uri": "https://localhost:8080/",
          "height": 170
        },
        "outputId": "8220c9f6-5cc5-4983-e672-46aed15fd538"
      },
      "source": [
        "dados.consumo_de_cerveja.describe()"
      ],
      "execution_count": null,
      "outputs": [
        {
          "output_type": "execute_result",
          "data": {
            "text/plain": [
              "count    365.000000\n",
              "mean      25.401367\n",
              "std        4.399143\n",
              "min       14.343000\n",
              "25%       22.008000\n",
              "50%       24.867000\n",
              "75%       28.631000\n",
              "max       37.937000\n",
              "Name: consumo_de_cerveja, dtype: float64"
            ]
          },
          "metadata": {
            "tags": []
          },
          "execution_count": 24
        }
      ]
    },
    {
      "cell_type": "code",
      "metadata": {
        "id": "X-_rQpFHsO7H",
        "colab_type": "code",
        "colab": {
          "base_uri": "https://localhost:8080/",
          "height": 237
        },
        "outputId": "ca056f4b-e64e-4387-e3eb-883bded0b661"
      },
      "source": [
        "ax = sns.pairplot(dados, y_vars='consumo_de_cerveja', x_vars=['temp_min', 'temp_media', 'temp_max', 'chuva', 'fds'], kind='reg') \n",
        "ax.fig.suptitle('Dispersão entre as Variáveis', fontsize=20, y=1.05)\n",
        "ax "
      ],
      "execution_count": null,
      "outputs": [
        {
          "output_type": "execute_result",
          "data": {
            "text/plain": [
              "<seaborn.axisgrid.PairGrid at 0x7fc8db8f39e8>"
            ]
          },
          "metadata": {
            "tags": []
          },
          "execution_count": 25
        },
        {
          "output_type": "display_data",
          "data": {
            "image/png": "[encoded data removed]",
            "text/plain": [
              "<Figure size 900x180 with 5 Axes>"
            ]
          },
          "metadata": {
            "tags": [],
            "needs_background": "light"
          }
        }
      ]
    },
    {
      "cell_type": "code",
      "metadata": {
        "id": "_paH7kIhxjuJ",
        "colab_type": "code",
        "colab": {
          "base_uri": "https://localhost:8080/",
          "height": 495
        },
        "outputId": "75031712-53bf-43fe-b45e-ea31472f953e"
      },
      "source": [
        "ax = sns.jointplot(x=\"temp_max\", y=\"consumo_de_cerveja\", data=dados, kind='reg') #colocando a reta \n",
        "ax.fig.suptitle('Dispersão - Consumo X Temperatura', fontsize=18, y=1.05)\n",
        "ax.set_axis_labels(\"Temperatura Máxima\", \"Consumo de  Cerveja\", fontsize=14)\n",
        "ax"
      ],
      "execution_count": null,
      "outputs": [
        {
          "output_type": "execute_result",
          "data": {
            "text/plain": [
              "<seaborn.axisgrid.JointGrid at 0x7fc8d8f92080>"
            ]
          },
          "metadata": {
            "tags": []
          },
          "execution_count": 26
        },
        {
          "output_type": "display_data",
          "data": {
            "image/png": "[encoded data removed]",
            "text/plain": [
              "<Figure size 432x432 with 3 Axes>"
            ]
          },
          "metadata": {
            "tags": [],
            "needs_background": "light"
          }
        }
      ]
    },
    {
      "cell_type": "markdown",
      "metadata": {
        "id": "wcok5pIRxzre",
        "colab_type": "text"
      },
      "source": [
        "# Estimando um Modelo de Regressão Linear para o Consumo"
      ]
    },
    {
      "cell_type": "code",
      "metadata": {
        "id": "VD2h_Vx413hu",
        "colab_type": "code",
        "colab": {}
      },
      "source": [
        "import statsmodels.api as sm"
      ],
      "execution_count": null,
      "outputs": []
    },
    {
      "cell_type": "code",
      "metadata": {
        "id": "T9xg4nQj2J8t",
        "colab_type": "code",
        "colab": {
          "base_uri": "https://localhost:8080/",
          "height": 68
        },
        "outputId": "57a83bc4-47b6-4b47-eb11-c625c67f5958"
      },
      "source": [
        "dados.columns"
      ],
      "execution_count": null,
      "outputs": [
        {
          "output_type": "execute_result",
          "data": {
            "text/plain": [
              "Index(['temp_media', 'temp_min', 'temp_max', 'chuva', 'fds',\n",
              "       'consumo_de_cerveja'],\n",
              "      dtype='object')"
            ]
          },
          "metadata": {
            "tags": []
          },
          "execution_count": 28
        }
      ]
    },
    {
      "cell_type": "code",
      "metadata": {
        "id": "nYHxsPYPx0dP",
        "colab_type": "code",
        "colab": {}
      },
      "source": [
        "X = dados[['temp_media', 'temp_min', 'temp_max', 'chuva', 'fds']]\n",
        "y = dados['consumo_de_cerveja']"
      ],
      "execution_count": null,
      "outputs": []
    },
    {
      "cell_type": "code",
      "metadata": {
        "id": "_g0XHpZI41Qm",
        "colab_type": "code",
        "colab": {}
      },
      "source": [
        "X_train, X_test, y_train, y_test = train_test_split(X, y, test_size=0.3, random_state=2811)"
      ],
      "execution_count": null,
      "outputs": []
    },
    {
      "cell_type": "code",
      "metadata": {
        "id": "qNhXwuTf1c1o",
        "colab_type": "code",
        "colab": {}
      },
      "source": [
        "X_train_com_constante = sm.add_constant(X_train) #criando uma variavel constante\n",
        "#dentro tem um conjunto de variaveis explicativas de treino (feita le em cima)"
      ],
      "execution_count": null,
      "outputs": []
    },
    {
      "cell_type": "code",
      "metadata": {
        "id": "IBUyV7ME2C1G",
        "colab_type": "code",
        "colab": {}
      },
      "source": [
        "modelo_statsmodels = sm.OLS(y_train, X_train_com_constante, hasconst = True).fit()"
      ],
      "execution_count": null,
      "outputs": []
    },
    {
      "cell_type": "code",
      "metadata": {
        "id": "ZbRoUWiH2Eud",
        "colab_type": "code",
        "colab": {
          "base_uri": "https://localhost:8080/",
          "height": 510
        },
        "outputId": "08ea8957-4b9c-4d26-9504-a8aec6179234"
      },
      "source": [
        "print(modelo_statsmodels.summary())"
      ],
      "execution_count": null,
      "outputs": [
        {
          "output_type": "stream",
          "text": [
            "                            OLS Regression Results                            \n",
            "==============================================================================\n",
            "Dep. Variable:     consumo_de_cerveja   R-squared:                       0.735\n",
            "Model:                            OLS   Adj. R-squared:                  0.730\n",
            "Method:                 Least Squares   F-statistic:                     138.3\n",
            "Date:                Sat, 05 Sep 2020   Prob (F-statistic):           9.62e-70\n",
            "Time:                        11:08:06   Log-Likelihood:                -574.30\n",
            "No. Observations:                 255   AIC:                             1161.\n",
            "Df Residuals:                     249   BIC:                             1182.\n",
            "Df Model:                           5                                         \n",
            "Covariance Type:            nonrobust                                         \n",
            "==============================================================================\n",
            "                 coef    std err          t      P>|t|      [0.025      0.975]\n",
            "------------------------------------------------------------------------------\n",
            "const          6.3627      1.011      6.291      0.000       4.371       8.355\n",
            "temp_media     0.1113      0.225      0.494      0.622      -0.333       0.555\n",
            "temp_min      -0.1334      0.131     -1.019      0.309      -0.391       0.124\n",
            "temp_max       0.6678      0.114      5.852      0.000       0.443       0.893\n",
            "chuva         -0.0589      0.012     -4.974      0.000      -0.082      -0.036\n",
            "fds            5.3783      0.319     16.870      0.000       4.750       6.006\n",
            "==============================================================================\n",
            "Omnibus:                       30.165   Durbin-Watson:                   1.918\n",
            "Prob(Omnibus):                  0.000   Jarque-Bera (JB):                9.103\n",
            "Skew:                           0.092   Prob(JB):                       0.0106\n",
            "Kurtosis:                       2.093   Cond. No.                         270.\n",
            "==============================================================================\n",
            "\n",
            "Warnings:\n",
            "[1] Standard Errors assume that the covariance matrix of the errors is correctly specified.\n"
          ],
          "name": "stdout"
        }
      ]
    },
    {
      "cell_type": "markdown",
      "metadata": {
        "id": "SzEFPUJv2uee",
        "colab_type": "text"
      },
      "source": [
        "Nota-se que o parâmetro temp_min e temp_media não passan no teste, ele não explica nada da nossa variavel dependente y, visto que  P>|t| é superior a 0.05, devendo assim não fazer parte do modelo."
      ]
    },
    {
      "cell_type": "code",
      "metadata": {
        "id": "skQXkbuA3Nll",
        "colab_type": "code",
        "colab": {}
      },
      "source": [
        "X = dados[['temp_max', 'chuva', 'fds']]\n",
        "y = dados['consumo_de_cerveja']"
      ],
      "execution_count": null,
      "outputs": []
    },
    {
      "cell_type": "code",
      "metadata": {
        "id": "rS0qRrxB9Bn0",
        "colab_type": "code",
        "colab": {}
      },
      "source": [
        "from sklearn.metrics import mean_squared_error\n",
        "from sklearn.metrics import mean_absolute_error\n",
        "from sklearn.metrics import r2_score\n",
        "from sklearn.svm import SVR\n",
        "from sklearn.neural_network import MLPRegressor\n",
        "from sklearn.ensemble import RandomForestRegressor, AdaBoostRegressor\n",
        "from sklearn.linear_model import (\n",
        "    BayesianRidge,\n",
        "    SGDRegressor,\n",
        ")\n"
      ],
      "execution_count": null,
      "outputs": []
    },
    {
      "cell_type": "code",
      "metadata": {
        "id": "ZOmoAcAN3QWS",
        "colab_type": "code",
        "colab": {}
      },
      "source": [
        "X_train, X_test, y_train, y_test = train_test_split(X, y, test_size=0.3, random_state=2811)"
      ],
      "execution_count": null,
      "outputs": []
    },
    {
      "cell_type": "code",
      "metadata": {
        "id": "FaUICLv59Bu7",
        "colab_type": "code",
        "colab": {}
      },
      "source": [
        "def run_reg_linear(X_train, X_test, y_train, y_test, model, plot=False):\n",
        "    model.fit(X_train, y_train)\n",
        "    test_pred = model.predict(X_test)\n",
        "\n",
        "    mse = mean_squared_error(y_test, test_pred)\n",
        "    mae = mean_absolute_error(y_test, test_pred)\n",
        "    r2 = r2_score(y_test, test_pred)\n",
        "\n",
        "    if plot:\n",
        "        print(\"*\" * 40)\n",
        "        print(\"r2 score\", r2)\n",
        "        print(\"mse\", mse)\n",
        "        print(\"mae\", mae)\n",
        "        print(\"*\" * 40)\n",
        "\n",
        "    return r2, mse"
      ],
      "execution_count": null,
      "outputs": []
    },
    {
      "cell_type": "markdown",
      "metadata": {
        "id": "kc0LS5EgBZfU",
        "colab_type": "text"
      },
      "source": [
        "# BayesianRidge"
      ]
    },
    {
      "cell_type": "code",
      "metadata": {
        "id": "AtDRw62A-_kW",
        "colab_type": "code",
        "colab": {
          "base_uri": "https://localhost:8080/",
          "height": 493
        },
        "outputId": "68790d29-6004-4922-ada8-ef7e81dc7e30"
      },
      "source": [
        "from sklearn.model_selection import RandomizedSearchCV\n",
        "import numpy as np\n",
        "\n",
        "tol = [round(x/1000000.,5) for x in np.linspace(start=0, stop=100000, num=2000)]\n",
        "alpha_1 = [round(x/100000.,4) for x in np.linspace(start=0, stop=100000, num=2000)]\n",
        "alpha_2 = [round(x/100000.,4) for x in np.linspace(start=0, stop=100000, num=2000)]\n",
        "lambda_1 = [round(x/100000.,4) for x in np.linspace(start=0, stop=100000, num=2000)]\n",
        "lambda_2 = [round(x/100000.,4) for x in np.linspace(start=0, stop=100000, num=2000)]\n",
        "fit_intercept = [True,False]\n",
        "normalize = [True,False]\n",
        "n_iter = [10000]\n",
        "    \n",
        "random_grid = {\n",
        "    \"tol\": tol,\n",
        "    \"alpha_1\": alpha_1,\n",
        "    \"alpha_2\": alpha_2,\n",
        "    \"lambda_1\": lambda_1,\n",
        "    \"lambda_2\": lambda_2,   \n",
        "    \"fit_intercept\": fit_intercept,  \n",
        "    \"normalize\": normalize,\n",
        "    'n_iter':n_iter}\n",
        "\n",
        "\n",
        "br = BayesianRidge()\n",
        "br_random = RandomizedSearchCV(\n",
        "    estimator=br,\n",
        "    param_distributions=random_grid,\n",
        "    n_iter=2000,\n",
        "    cv=5,\n",
        "    verbose=2,\n",
        "    random_state=42,\n",
        "    n_jobs=-1,\n",
        ")\n",
        "\n",
        "br_random.fit(X_train, y_train)"
      ],
      "execution_count": null,
      "outputs": [
        {
          "output_type": "stream",
          "text": [
            "Fitting 5 folds for each of 2000 candidates, totalling 10000 fits\n"
          ],
          "name": "stdout"
        },
        {
          "output_type": "stream",
          "text": [
            "[Parallel(n_jobs=-1)]: Using backend LokyBackend with 2 concurrent workers.\n",
            "[Parallel(n_jobs=-1)]: Done 234 tasks      | elapsed:    2.6s\n",
            "[Parallel(n_jobs=-1)]: Done 4106 tasks      | elapsed:   20.2s\n",
            "[Parallel(n_jobs=-1)]: Done 10000 out of 10000 | elapsed:   42.9s finished\n"
          ],
          "name": "stderr"
        },
        {
          "output_type": "execute_result",
          "data": {
            "text/plain": [
              "RandomizedSearchCV(cv=5, error_score=nan,\n",
              "                   estimator=BayesianRidge(alpha_1=1e-06, alpha_2=1e-06,\n",
              "                                           alpha_init=None, compute_score=False,\n",
              "                                           copy_X=True, fit_intercept=True,\n",
              "                                           lambda_1=1e-06, lambda_2=1e-06,\n",
              "                                           lambda_init=None, n_iter=300,\n",
              "                                           normalize=False, tol=0.001,\n",
              "                                           verbose=False),\n",
              "                   iid='deprecated', n_iter=2000, n_jobs=-1,\n",
              "                   param_distributions={'alpha_1': [0.0, 0.0005, 0.001, 0.00...\n",
              "                                        'normalize': [True, False],\n",
              "                                        'tol': [0.0, 5e-05, 0.0001, 0.00015,\n",
              "                                                0.0002, 0.00025, 0.0003,\n",
              "                                                0.00035, 0.0004, 0.00045,\n",
              "                                                0.0005, 0.00055, 0.0006,\n",
              "                                                0.00065, 0.0007, 0.00075,\n",
              "                                                0.0008, 0.00085, 0.0009,\n",
              "                                                0.00095, 0.001, 0.00105, 0.0011,\n",
              "                                                0.00115, 0.0012, 0.00125,\n",
              "                                                0.0013, 0.00135, 0.0014,\n",
              "                                                0.00145, ...]},\n",
              "                   pre_dispatch='2*n_jobs', random_state=42, refit=True,\n",
              "                   return_train_score=False, scoring=None, verbose=2)"
            ]
          },
          "metadata": {
            "tags": []
          },
          "execution_count": 39
        }
      ]
    },
    {
      "cell_type": "code",
      "metadata": {
        "id": "Q2MW5TUv9BxU",
        "colab_type": "code",
        "colab": {
          "base_uri": "https://localhost:8080/",
          "height": 139
        },
        "outputId": "5c2ad157-71fc-4f5e-db40-425a5f04f107"
      },
      "source": [
        "melhores_parametros = br_random.best_params_\n",
        "print(melhores_parametros)\n",
        "\n",
        "score= run_reg_linear(X_train, X_test, y_train, y_test, BayesianRidge(\n",
        "    tol=melhores_parametros['tol'],\n",
        "    alpha_1= melhores_parametros['alpha_1'],\n",
        "    alpha_2= melhores_parametros['alpha_2'],\n",
        "    lambda_1= melhores_parametros['lambda_1'],\n",
        "    lambda_2= melhores_parametros['lambda_2'],   \n",
        "    fit_intercept= melhores_parametros['fit_intercept'],  \n",
        "    normalize= melhores_parametros['normalize'],\n",
        "    n_iter=melhores_parametros['n_iter']\n",
        "), True)"
      ],
      "execution_count": null,
      "outputs": [
        {
          "output_type": "stream",
          "text": [
            "{'tol': 0.04842, 'normalize': True, 'n_iter': 10000, 'lambda_2': 0.9755, 'lambda_1': 0.4952, 'fit_intercept': True, 'alpha_2': 0.8569, 'alpha_1': 0.8849}\n",
            "****************************************\n",
            "r2 score 0.6917090486883517\n",
            "mse 5.454767930190288\n",
            "mae 1.96339897676459\n",
            "****************************************\n"
          ],
          "name": "stdout"
        }
      ]
    },
    {
      "cell_type": "markdown",
      "metadata": {
        "id": "hrSE5q8BBj3e",
        "colab_type": "text"
      },
      "source": [
        "# Random Forest"
      ]
    },
    {
      "cell_type": "code",
      "metadata": {
        "id": "qqnYCxOLAejf",
        "colab_type": "code",
        "colab": {
          "base_uri": "https://localhost:8080/",
          "height": 697
        },
        "outputId": "aab0fb64-31b1-4035-c496-2709718c42dc"
      },
      "source": [
        "n_estimators = [int(x) for x in np.linspace(start=1, stop=1000, num=100)]\n",
        "\n",
        "max_features = [\"auto\", \"sqrt\"]\n",
        "\n",
        "max_depth = [int(x) for x in np.linspace(1, 1100, num=110)]\n",
        "max_depth.append(None)\n",
        "\n",
        "min_samples_split = [2, 5, 10, 15, 20,25,30]\n",
        "\n",
        "min_samples_leaf = [1, 2, 4,6,8,10]\n",
        "\n",
        "bootstrap = [True, False]\n",
        "\n",
        "random_grid = {\n",
        "    \"n_estimators\": n_estimators,\n",
        "    \"max_features\": max_features,\n",
        "    \"max_depth\": max_depth,\n",
        "    \"min_samples_split\": min_samples_split,\n",
        "    \"min_samples_leaf\": min_samples_leaf,\n",
        "    \"bootstrap\": bootstrap}\n",
        "\n",
        "\n",
        "rf = RandomForestRegressor(n_jobs=-1)\n",
        "\n",
        "rf_random = RandomizedSearchCV(\n",
        "    estimator=rf,\n",
        "    param_distributions=random_grid,\n",
        "    n_iter=500,\n",
        "    cv=4,\n",
        "    verbose=2,\n",
        "    random_state=42,\n",
        "    n_jobs=-1)\n",
        "\n",
        "rf_random.fit(X_train, y_train)"
      ],
      "execution_count": null,
      "outputs": [
        {
          "output_type": "stream",
          "text": [
            "Fitting 4 folds for each of 500 candidates, totalling 2000 fits\n"
          ],
          "name": "stdout"
        },
        {
          "output_type": "stream",
          "text": [
            "[Parallel(n_jobs=-1)]: Using backend LokyBackend with 2 concurrent workers.\n",
            "[Parallel(n_jobs=-1)]: Done  37 tasks      | elapsed:   24.3s\n",
            "[Parallel(n_jobs=-1)]: Done 158 tasks      | elapsed:  1.6min\n",
            "[Parallel(n_jobs=-1)]: Done 361 tasks      | elapsed:  3.4min\n",
            "[Parallel(n_jobs=-1)]: Done 644 tasks      | elapsed:  6.3min\n",
            "[Parallel(n_jobs=-1)]: Done 1009 tasks      | elapsed: 10.1min\n",
            "[Parallel(n_jobs=-1)]: Done 1454 tasks      | elapsed: 14.5min\n",
            "[Parallel(n_jobs=-1)]: Done 1981 tasks      | elapsed: 19.7min\n",
            "[Parallel(n_jobs=-1)]: Done 2000 out of 2000 | elapsed: 19.9min finished\n"
          ],
          "name": "stderr"
        },
        {
          "output_type": "execute_result",
          "data": {
            "text/plain": [
              "RandomizedSearchCV(cv=4, error_score=nan,\n",
              "                   estimator=RandomForestRegressor(bootstrap=True,\n",
              "                                                   ccp_alpha=0.0,\n",
              "                                                   criterion='mse',\n",
              "                                                   max_depth=None,\n",
              "                                                   max_features='auto',\n",
              "                                                   max_leaf_nodes=None,\n",
              "                                                   max_samples=None,\n",
              "                                                   min_impurity_decrease=0.0,\n",
              "                                                   min_impurity_split=None,\n",
              "                                                   min_samples_leaf=1,\n",
              "                                                   min_samples_split=2,\n",
              "                                                   min_weight_fraction_leaf=0.0,\n",
              "                                                   n_estimators=100, n_jobs=-1,\n",
              "                                                   oob_score=False,...\n",
              "                                                      232, 242, 253, 263, 273,\n",
              "                                                      283, 293, ...],\n",
              "                                        'max_features': ['auto', 'sqrt'],\n",
              "                                        'min_samples_leaf': [1, 2, 4, 6, 8, 10],\n",
              "                                        'min_samples_split': [2, 5, 10, 15, 20,\n",
              "                                                              25, 30],\n",
              "                                        'n_estimators': [1, 11, 21, 31, 41, 51,\n",
              "                                                         61, 71, 81, 91, 101,\n",
              "                                                         112, 122, 132, 142,\n",
              "                                                         152, 162, 172, 182,\n",
              "                                                         192, 202, 212, 223,\n",
              "                                                         233, 243, 253, 263,\n",
              "                                                         273, 283, 293, ...]},\n",
              "                   pre_dispatch='2*n_jobs', random_state=42, refit=True,\n",
              "                   return_train_score=False, scoring=None, verbose=2)"
            ]
          },
          "metadata": {
            "tags": []
          },
          "execution_count": 42
        }
      ]
    },
    {
      "cell_type": "code",
      "metadata": {
        "id": "hxMZdtWKA9eK",
        "colab_type": "code",
        "colab": {
          "base_uri": "https://localhost:8080/",
          "height": 139
        },
        "outputId": "107b677b-5b35-4dc6-f5d9-5b40acbcc057"
      },
      "source": [
        "melhores_parametros = rf_random.best_params_\n",
        "print(melhores_parametros)\n",
        "score= run_reg_linear(X_train, X_test, y_train, y_test, RandomForestRegressor(\n",
        "    n_estimators=melhores_parametros['n_estimators'],\n",
        "    max_features= melhores_parametros['max_features'],\n",
        "    max_depth= melhores_parametros['max_depth'],\n",
        "    min_samples_split= melhores_parametros['min_samples_split'],\n",
        "    min_samples_leaf= melhores_parametros['min_samples_leaf'],   \n",
        "    bootstrap= melhores_parametros['bootstrap']), True)"
      ],
      "execution_count": null,
      "outputs": [
        {
          "output_type": "stream",
          "text": [
            "{'n_estimators': 162, 'min_samples_split': 25, 'min_samples_leaf': 6, 'max_features': 'auto', 'max_depth': 989, 'bootstrap': True}\n",
            "****************************************\n",
            "r2 score 0.6555025109958088\n",
            "mse 6.095390886615822\n",
            "mae 2.0548918400280654\n",
            "****************************************\n"
          ],
          "name": "stdout"
        }
      ]
    },
    {
      "cell_type": "markdown",
      "metadata": {
        "id": "WKQmzw4vBrTz",
        "colab_type": "text"
      },
      "source": [
        "# Regressão Linear"
      ]
    },
    {
      "cell_type": "code",
      "metadata": {
        "id": "TWXS1bjy1S_H",
        "colab_type": "code",
        "colab": {}
      },
      "source": [
        "from sklearn.linear_model import LinearRegression\n",
        "from sklearn import metrics"
      ],
      "execution_count": null,
      "outputs": []
    },
    {
      "cell_type": "code",
      "metadata": {
        "id": "xQj0IaCX5KdU",
        "colab_type": "code",
        "colab": {}
      },
      "source": [
        "lr = LinearRegression() "
      ],
      "execution_count": null,
      "outputs": []
    },
    {
      "cell_type": "code",
      "metadata": {
        "id": "nCrfRfXI30o7",
        "colab_type": "code",
        "colab": {
          "base_uri": "https://localhost:8080/",
          "height": 34
        },
        "outputId": "0e5d3a2f-e31b-4877-b6f1-9fdfdfe19473"
      },
      "source": [
        "lr.fit(X_train, y_train)   "
      ],
      "execution_count": null,
      "outputs": [
        {
          "output_type": "execute_result",
          "data": {
            "text/plain": [
              "LinearRegression(copy_X=True, fit_intercept=True, n_jobs=None, normalize=False)"
            ]
          },
          "metadata": {
            "tags": []
          },
          "execution_count": 46
        }
      ]
    },
    {
      "cell_type": "code",
      "metadata": {
        "id": "TL3RqfN6HP5i",
        "colab_type": "code",
        "colab": {
          "base_uri": "https://localhost:8080/",
          "height": 102
        },
        "outputId": "49f6c659-fc4f-48e4-c241-1bd152d2d0d0"
      },
      "source": [
        "score= run_reg_linear(X_train, X_test, y_train, y_test, LinearRegression(), True)"
      ],
      "execution_count": null,
      "outputs": [
        {
          "output_type": "stream",
          "text": [
            "****************************************\n",
            "r2 score 0.6907364667750691\n",
            "mse 5.471976377624393\n",
            "mae 1.9665560392257604\n",
            "****************************************\n"
          ],
          "name": "stdout"
        }
      ]
    },
    {
      "cell_type": "markdown",
      "metadata": {
        "id": "vduGRoKlJLLJ",
        "colab_type": "text"
      },
      "source": [
        "Desta feita, a Regressão Linear apresentou o melhor desempenho, sendo assim, ficaremos com esse modelo."
      ]
    },
    {
      "cell_type": "code",
      "metadata": {
        "id": "dF_ppXmm4Ow3",
        "colab_type": "code",
        "colab": {}
      },
      "source": [
        "#variáveis do modelo\n",
        "index=['Intercepto', 'Temperatura Máxima', 'Chuva (mm)', 'Final de Semana'] #visando fazer um dataframe com os valores "
      ],
      "execution_count": null,
      "outputs": []
    },
    {
      "cell_type": "code",
      "metadata": {
        "id": "F8OzV-Fs4kRo",
        "colab_type": "code",
        "colab": {
          "base_uri": "https://localhost:8080/",
          "height": 34
        },
        "outputId": "a669701f-99be-4dc1-bd8a-fd500b4383c0"
      },
      "source": [
        "lr.coef_"
      ],
      "execution_count": null,
      "outputs": [
        {
          "output_type": "execute_result",
          "data": {
            "text/plain": [
              "array([ 0.68473676, -0.06078244,  5.40108334])"
            ]
          },
          "metadata": {
            "tags": []
          },
          "execution_count": 50
        }
      ]
    },
    {
      "cell_type": "code",
      "metadata": {
        "id": "2eaHqD9x4Rdo",
        "colab_type": "code",
        "colab": {
          "base_uri": "https://localhost:8080/",
          "height": 173
        },
        "outputId": "b855d3a8-9b87-455c-ddab-a8cb5663b9a2"
      },
      "source": [
        "pd.DataFrame(data=np.append(lr.intercept_, lr.coef_), index=index, columns=['Parâmetros'])"
      ],
      "execution_count": null,
      "outputs": [
        {
          "output_type": "execute_result",
          "data": {
            "text/html": [
              "<div>\n",
              "<style scoped>\n",
              "    .dataframe tbody tr th:only-of-type {\n",
              "        vertical-align: middle;\n",
              "    }\n",
              "\n",
              "    .dataframe tbody tr th {\n",
              "        vertical-align: top;\n",
              "    }\n",
              "\n",
              "    .dataframe thead th {\n",
              "        text-align: right;\n",
              "    }\n",
              "</style>\n",
              "<table border=\"1\" class=\"dataframe\">\n",
              "  <thead>\n",
              "    <tr style=\"text-align: right;\">\n",
              "      <th></th>\n",
              "      <th>Parâmetros</th>\n",
              "    </tr>\n",
              "  </thead>\n",
              "  <tbody>\n",
              "    <tr>\n",
              "      <th>Intercepto</th>\n",
              "      <td>5.951976</td>\n",
              "    </tr>\n",
              "    <tr>\n",
              "      <th>Temperatura Máxima</th>\n",
              "      <td>0.684737</td>\n",
              "    </tr>\n",
              "    <tr>\n",
              "      <th>Chuva (mm)</th>\n",
              "      <td>-0.060782</td>\n",
              "    </tr>\n",
              "    <tr>\n",
              "      <th>Final de Semana</th>\n",
              "      <td>5.401083</td>\n",
              "    </tr>\n",
              "  </tbody>\n",
              "</table>\n",
              "</div>"
            ],
            "text/plain": [
              "                    Parâmetros\n",
              "Intercepto            5.951976\n",
              "Temperatura Máxima    0.684737\n",
              "Chuva (mm)           -0.060782\n",
              "Final de Semana       5.401083"
            ]
          },
          "metadata": {
            "tags": []
          },
          "execution_count": 51
        }
      ]
    },
    {
      "cell_type": "code",
      "metadata": {
        "id": "cUd1RllE5pTK",
        "colab_type": "code",
        "colab": {
          "base_uri": "https://localhost:8080/",
          "height": 173
        },
        "outputId": "648fd944-ad72-4aef-e213-1f49777beb44"
      },
      "source": [
        "MSE = metrics.mean_squared_error(y_test, y_previsto).round(2)\n",
        "REQM = np.sqrt(metrics.mean_squared_error(y_test, y_previsto)).round(2)\n",
        "MAE = metrics.mean_absolute_error(y_test, y_previsto)\n",
        "R2 = metrics.r2_score(y_test, y_previsto).round(2)\n",
        "\n",
        "\n",
        "\n",
        "pd.DataFrame([EQM, REQM, MAE, R2], ['EQM', 'REQM', 'MAE', 'R²'], columns=['Métricas'])"
      ],
      "execution_count": null,
      "outputs": [
        {
          "output_type": "execute_result",
          "data": {
            "text/html": [
              "<div>\n",
              "<style scoped>\n",
              "    .dataframe tbody tr th:only-of-type {\n",
              "        vertical-align: middle;\n",
              "    }\n",
              "\n",
              "    .dataframe tbody tr th {\n",
              "        vertical-align: top;\n",
              "    }\n",
              "\n",
              "    .dataframe thead th {\n",
              "        text-align: right;\n",
              "    }\n",
              "</style>\n",
              "<table border=\"1\" class=\"dataframe\">\n",
              "  <thead>\n",
              "    <tr style=\"text-align: right;\">\n",
              "      <th></th>\n",
              "      <th>Métricas</th>\n",
              "    </tr>\n",
              "  </thead>\n",
              "  <tbody>\n",
              "    <tr>\n",
              "      <th>EQM</th>\n",
              "      <td>5.470000</td>\n",
              "    </tr>\n",
              "    <tr>\n",
              "      <th>REQM</th>\n",
              "      <td>2.340000</td>\n",
              "    </tr>\n",
              "    <tr>\n",
              "      <th>MAE</th>\n",
              "      <td>1.966556</td>\n",
              "    </tr>\n",
              "    <tr>\n",
              "      <th>R²</th>\n",
              "      <td>0.690000</td>\n",
              "    </tr>\n",
              "  </tbody>\n",
              "</table>\n",
              "</div>"
            ],
            "text/plain": [
              "      Métricas\n",
              "EQM   5.470000\n",
              "REQM  2.340000\n",
              "MAE   1.966556\n",
              "R²    0.690000"
            ]
          },
          "metadata": {
            "tags": []
          },
          "execution_count": 59
        }
      ]
    },
    {
      "cell_type": "markdown",
      "metadata": {
        "id": "ZZ8AFO_fAZ4j",
        "colab_type": "text"
      },
      "source": [
        "# Fazendo previsão"
      ]
    },
    {
      "cell_type": "code",
      "metadata": {
        "id": "z5_sn5dVAbnW",
        "colab_type": "code",
        "colab": {
          "base_uri": "https://localhost:8080/",
          "height": 34
        },
        "outputId": "3a325dee-bf21-4c0c-8ca7-43c272b7d835"
      },
      "source": [
        "temp_max=40\n",
        "chuva=12.2\n",
        "fds=0\n",
        "entrada=[[temp_max, chuva, fds]]\n",
        "\n",
        "print('{0:.2f} litros'.format(modelo.predict(entrada)[0]))"
      ],
      "execution_count": null,
      "outputs": [
        {
          "output_type": "stream",
          "text": [
            "32.60 litros\n"
          ],
          "name": "stdout"
        }
      ]
    },
    {
      "cell_type": "markdown",
      "metadata": {
        "id": "yn7IihLjAjTd",
        "colab_type": "text"
      },
      "source": [
        "# Salvando modelo estimado"
      ]
    },
    {
      "cell_type": "code",
      "metadata": {
        "id": "aiKEWzwuAiMe",
        "colab_type": "code",
        "colab": {}
      },
      "source": [
        "import pickle"
      ],
      "execution_count": null,
      "outputs": []
    },
    {
      "cell_type": "code",
      "metadata": {
        "id": "ecHJiUYbAuf1",
        "colab_type": "code",
        "colab": {}
      },
      "source": [
        "output = open('modelo_consumo_cerveja', 'wb') \n",
        "pickle.dump(modelo, output)\n",
        "output.close() "
      ],
      "execution_count": null,
      "outputs": []
    },
    {
      "cell_type": "code",
      "metadata": {
        "id": "BV7d00HKBqMu",
        "colab_type": "code",
        "colab": {
          "base_uri": "https://localhost:8080/",
          "height": 34
        },
        "outputId": "ed5dd613-37b9-4bae-8b34-1ea708485f9e"
      },
      "source": [
        "import pickle\n",
        "\n",
        "modelo = open('modelo_consumo_cerveja','rb') #indico onde tá o meu modelo(pasta)\n",
        "lr_cerveja = pickle.load(modelo) \n",
        "modelo.close()\n",
        "\n",
        "temp_max = 30.5\n",
        "chuva = 12.2\n",
        "fds = 0\n",
        "entrada = [[temp_max, chuva, fds]]\n",
        "print('{0:.2f} litros'.format(lr_cerveja.predict(entrada)[0])) "
      ],
      "execution_count": null,
      "outputs": [
        {
          "output_type": "stream",
          "text": [
            "26.09 litros\n"
          ],
          "name": "stdout"
        }
      ]
    },
    {
      "cell_type": "markdown",
      "metadata": {
        "id": "6QrtS1qtIa7C",
        "colab_type": "text"
      },
      "source": [
        "# Criando um simulador "
      ]
    },
    {
      "cell_type": "code",
      "metadata": {
        "id": "-1KcJtJXA4BW",
        "colab_type": "code",
        "colab": {}
      },
      "source": [
        "# Importando bibliotecas\n",
        "from ipywidgets import widgets, HBox, VBox\n",
        "from IPython.display import display\n",
        "\n",
        "\n",
        "style = {'description_width': '150px'}\n",
        "style1 = {'description_width': '210px'}\n",
        "style2 = {'description_width': '230px'}\n",
        "layout = {'width': '400px'}\n",
        "\n",
        "# Criando os controles do formulário \n",
        "temp_max = widgets.Text(description=\"Temperatura Máxima\", style=style, layout=layout)\n",
        "chuva = widgets.Text(description=\"Chuva\", style=style, layout=layout)\n",
        "fds = widgets.RadioButtons(options=[('Não', 0), ('Sim', 1)], description=\"Fim de Semana\", style=style, layout=layout)\n",
        "\n",
        "\n",
        "botao = widgets.Button(description=\"Simular\") #criando o botão chamado simular\n",
        "\n",
        "# Posicionando \n",
        "inputs = VBox([temp_max, chuva, fds]) \n",
        "\n",
        "\n",
        "# Função de simulação\n",
        "def simulador(sender):\n",
        "    entrada=[[\n",
        "                float(temp_max.value if temp_max.value else 0), \n",
        "                float(chuva.value if chuva.value else 0), \n",
        "                float(fds.value if fds.value else 0)]]\n",
        "\n",
        "\n",
        "    print('{0:.2f} litros'.format(lr_cerveja.predict(entrada)[0])) \n",
        "    \n",
        "# Atribuindo a função \"simulador\" ao evento click do botão\n",
        "botao.on_click(simulador)    "
      ],
      "execution_count": null,
      "outputs": []
    },
    {
      "cell_type": "code",
      "metadata": {
        "id": "s7HCQMxCBcM9",
        "colab_type": "code",
        "colab": {
          "base_uri": "https://localhost:8080/",
          "height": 177,
          "referenced_widgets": [
            "c16914651bab44d0b89e1f4f42662790",
            "5f55718c51be49d28d9b2b502ef31cdf",
            "0c21143692ee41c0a79117ccc655ab21",
            "ceb1bf309447432685d680203a566da4",
            "820734a9d5be4391bdf6d102e9d5e3db",
            "2edc61a8e46a47bc81375596a301e812",
            "6a6d899c8c22492ab07ae3f1fc4df82d",
            "e402822fc6b54ba1be89ddb99340a0c1",
            "3d88a5eeb8364323b4d83e1ef64c383a",
            "c0c45cac58924f139317a40198a6af3b",
            "bb095539bdf8493690af0a737720d53d",
            "7c4984d978544d8aa2675098bd4adf81",
            "3e2721f1fc254d209c59ca003e93510f",
            "ff6a0fd505f94eeebebba274ae29c090"
          ]
        },
        "outputId": "7aae3526-9a86-441c-ab1f-b7b57c2f3adb"
      },
      "source": [
        "display(inputs, botao)"
      ],
      "execution_count": null,
      "outputs": [
        {
          "output_type": "display_data",
          "data": {
            "application/vnd.jupyter.widget-view+json": {
              "model_id": "c16914651bab44d0b89e1f4f42662790",
              "version_minor": 0,
              "version_major": 2
            },
            "text/plain": [
              "VBox(children=(Text(value='30.5', description='Temperatura Máxima', layout=Layout(width='400px'), style=Descri…"
            ]
          },
          "metadata": {
            "tags": []
          }
        },
        {
          "output_type": "display_data",
          "data": {
            "application/vnd.jupyter.widget-view+json": {
              "model_id": "7c4984d978544d8aa2675098bd4adf81",
              "version_minor": 0,
              "version_major": 2
            },
            "text/plain": [
              "Button(description='Simular', style=ButtonStyle())"
            ]
          },
          "metadata": {
            "tags": []
          }
        }
      ]
    }
  ]
}